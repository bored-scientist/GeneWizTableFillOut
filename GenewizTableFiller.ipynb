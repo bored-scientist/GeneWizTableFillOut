{
 "cells": [
  {
   "cell_type": "code",
   "execution_count": null,
   "metadata": {
    "collapsed": false
   },
   "outputs": [],
   "source": [
    "import openpyxl\n",
    "xfile = openpyxl.load_workbook('C:\\\\Users\\\\ishchenk\\\\Documents\\\\iPython3 Notebooks\\\\SequencingOrders\\\\GENEWIZ_Sanger_Form_V2.xlsx')\n",
    "\n",
    "sheet = xfile.get_sheet_by_name('GENEWIZ Sanger Sequencing')\n",
    "\n"
   ]
  },
  {
   "cell_type": "code",
   "execution_count": null,
   "metadata": {
    "collapsed": false
   },
   "outputs": [],
   "source": [
    "CONSTRUCT_NAME = 'GB1'\n",
    "NUMBER_OF_CONSTRUCTS = 10\n",
    "DNA_LENGTH = 6000\n",
    "\n",
    "fwd_constr_name_cell_list = [\"E%d\" %i for i in range(2,NUMBER_OF_CONSTRUCTS*2+1,2)]\n",
    "rev_constr_name_cell_list = [\"E%d\" %i for i in range(3,NUMBER_OF_CONSTRUCTS*2+2,2)]\n",
    "fwd_primer_name_cell_list = [\"H%d\" %i for i in range(2,NUMBER_OF_CONSTRUCTS*2+1,2)]\n",
    "rev_primer_name_cell_list = [\"H%d\" %i for i in range(3,NUMBER_OF_CONSTRUCTS*2+2,2)]\n",
    "length_cell_list = [\"F%d\" %i for i in range(2,NUMBER_OF_CONSTRUCTS*2+2)]\n",
    "\n",
    "# Filling the construct names\n",
    "for i,cell in enumerate(fwd_constr_name_cell_list):\n",
    "    sheet[cell] = CONSTRUCT_NAME+ '_' + str(i+1)\n",
    "for i,cell in enumerate(rev_constr_name_cell_list):\n",
    "    sheet[cell] = CONSTRUCT_NAME+ '_' + str(i+1)\n",
    "# Filling the primers   \n",
    "for cell in fwd_primer_name_cell_list:\n",
    "    sheet[cell] = 'pFastBacF'\n",
    "for cell in rev_primer_name_cell_list:\n",
    "    sheet[cell] = 'pFastBacR' \n",
    "for cell in length_cell_list:\n",
    "    sheet[cell] = DNA_LENGTH    \n",
    "    \n",
    "xfile.save('C:\\\\Users\\\\ishchenk\\\\Documents\\\\iPython3 Notebooks\\\\SequencingOrders\\\\ToSubmit.xlsx')"
   ]
  },
  {
   "cell_type": "code",
   "execution_count": null,
   "metadata": {
    "collapsed": true
   },
   "outputs": [],
   "source": []
  },
  {
   "cell_type": "code",
   "execution_count": null,
   "metadata": {
    "collapsed": true
   },
   "outputs": [],
   "source": []
  }
 ],
 "metadata": {
  "anaconda-cloud": {},
  "kernelspec": {
   "display_name": "Python [conda root]",
   "language": "python",
   "name": "conda-root-py"
  },
  "language_info": {
   "codemirror_mode": {
    "name": "ipython",
    "version": 3
   },
   "file_extension": ".py",
   "mimetype": "text/x-python",
   "name": "python",
   "nbconvert_exporter": "python",
   "pygments_lexer": "ipython3",
   "version": "3.5.2"
  }
 },
 "nbformat": 4,
 "nbformat_minor": 1
}
